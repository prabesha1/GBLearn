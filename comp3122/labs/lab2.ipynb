{
  "cells": [
    {
      "cell_type": "markdown",
      "metadata": {
        "id": "SLf_ALch-dQC"
      },
      "source": [
        "## Python Recap\n"
      ]
    },
    {
      "cell_type": "markdown",
      "metadata": {
        "id": "huFS1w_A-dQD"
      },
      "source": [
        "## List Slicing"
      ]
    },
    {
      "cell_type": "markdown",
      "metadata": {
        "id": "rHXbnGky-dQD"
      },
      "source": [
        "\"We focus on `list` slicing here because of its importance in solving data science problems. Next week, we'll talk about `NumPy arrays`, which are inherently lists of numbers with more efficiency for numerical computations such as statistical analysis (e.g., mean, median, and variance) and linear algebra (e.g., matrix multiplication and dot product).\n"
      ]
    },
    {
      "cell_type": "markdown",
      "metadata": {
        "id": "HtZomi0i-dQE"
      },
      "source": [
        "**Basic slicing with step**"
      ]
    },
    {
      "cell_type": "code",
      "execution_count": 1,
      "metadata": {
        "colab": {
          "base_uri": "https://localhost:8080/"
        },
        "id": "gWHsiF0E-dQE",
        "outputId": "d033e3c9-b45b-4f3e-f242-b42539a1290b"
      },
      "outputs": [
        {
          "output_type": "stream",
          "name": "stdout",
          "text": [
            "[20, 30, 40, 50]\n",
            "[20, 30, 40, 50]\n",
            "[20, 40]\n"
          ]
        }
      ],
      "source": [
        "# [startIndex:stopIndex:step] - start index is inclusive, stop index is exclusive\n",
        "# Create a list of numbers\n",
        "my_list = [10, 20, 30, 40, 50, 60, 70, 80]\n",
        "\n",
        "print(my_list[1:5:1])\n",
        "print(my_list[1:5])\n",
        "\n",
        "# Slicing from index 1 to 5 (exclusive) with a step of 2\n",
        "print(my_list[1:5:2])  # Output: [20, 40]"
      ]
    },
    {
      "cell_type": "markdown",
      "metadata": {
        "id": "lHYhXNnQ-dQF"
      },
      "source": [
        "**Slicing with negative indices and negative steps**"
      ]
    },
    {
      "cell_type": "code",
      "execution_count": 4,
      "metadata": {
        "colab": {
          "base_uri": "https://localhost:8080/"
        },
        "id": "lMCnOfHK-dQG",
        "outputId": "285ab275-90b8-44b7-da3b-5040464680b0"
      },
      "outputs": [
        {
          "output_type": "stream",
          "name": "stdout",
          "text": [
            "[40, 50, 60, 70]\n",
            "[80, 70, 60, 50]\n"
          ]
        }
      ],
      "source": [
        "# Slicing the list using negative indices\n",
        "print(my_list[-5:-1])  # Output: [40, 50, 60, 70] # When we count the indexs startinf from end of the list - 0 is not counted\n",
        "print(my_list[-1:-5:-1])  # Output: [80, 70, 60, 50]\n",
        "\n",
        "# print(my_list[-1:-1]) # This will return an empty array becasue start and stop indices must be different"
      ]
    },
    {
      "cell_type": "markdown",
      "metadata": {
        "id": "Bdr-XfQo-dQG"
      },
      "source": [
        "**Similarity between slicing and range function**"
      ]
    },
    {
      "cell_type": "code",
      "execution_count": 6,
      "metadata": {
        "colab": {
          "base_uri": "https://localhost:8080/"
        },
        "id": "bltBDU6s-dQG",
        "outputId": "f2992d8d-733c-4d92-c565-3c1ffc200f3c"
      },
      "outputs": [
        {
          "output_type": "stream",
          "name": "stdout",
          "text": [
            "====positive step=====\n",
            "2\n",
            "4\n",
            "6\n",
            "8\n",
            "====negative step=====\n",
            "10\n",
            "range(3, 7, 2)\n",
            "9\n",
            "range(3, 7, 2)\n",
            "8\n",
            "range(3, 7, 2)\n",
            "7\n",
            "range(3, 7, 2)\n",
            "6\n",
            "range(3, 7, 2)\n"
          ]
        }
      ],
      "source": [
        "print(\"====positive step=====\")\n",
        "for i in range(2, 10, 2):\n",
        "    print(i)\n",
        "\n",
        "print(\"====negative step=====\")\n",
        "for i in range(10, 5, -1):\n",
        "    print(i)\n",
        "\n",
        "    # although list and range are similar in that they both have:\n",
        "    # start (inclusive), stop (exclusive), step (pos forward, neg backward)\n",
        "    # they are different because the range function is meant for a temporary list meant for an iteration/loop\n",
        "    # not to save into variable for later use\n",
        "    new_list = range(3,7,2)\n",
        "    print(new_list)"
      ]
    },
    {
      "cell_type": "markdown",
      "metadata": {
        "id": "nKHPr12u-dQG"
      },
      "source": [
        "**Omitting start or end index**"
      ]
    },
    {
      "cell_type": "code",
      "execution_count": 3,
      "metadata": {
        "colab": {
          "base_uri": "https://localhost:8080/"
        },
        "id": "oKOJ5kCm-dQG",
        "outputId": "38ded9fb-2568-4ee8-d463-0aa11fbe4997"
      },
      "outputs": [
        {
          "output_type": "stream",
          "name": "stdout",
          "text": [
            "[10, 20, 30, 40, 50]\n",
            "[10, 20, 30, 40, 50]\n",
            "[40, 50, 60, 70, 80]\n",
            "[40, 50, 60, 70, 80]\n",
            "[10, 30, 50, 70]\n",
            "[10, 30, 50, 70]\n"
          ]
        }
      ],
      "source": [
        "# Slicing from the beginning to index 4 (exclusive)\n",
        "print(my_list[:5])  # Output: [10, 20, 30, 40, 50]\n",
        "print(my_list[0:5])\n",
        "\n",
        "# Slicing from index 3 to the end of the list\n",
        "print(my_list[3:])  # Output: [40, 50, 60, 70, 80]\n",
        "print(my_list[3:8]) # Output: [40, 50, 60, 70, 80] # Not equivalent to using -1 end index since that is inclusive\n",
        "#end index should be length of list + 1 to include last element\n",
        "\n",
        "# Slicing with a step of 2\n",
        "print(my_list[::2])  # Output: [10, 30, 50, 70]\n",
        "print(my_list[0:8:2])\n"
      ]
    },
    {
      "cell_type": "markdown",
      "metadata": {
        "id": "pazMJrbz-dQH"
      },
      "source": [
        "**Reverse the list using slicing**"
      ]
    },
    {
      "cell_type": "code",
      "source": [],
      "metadata": {
        "id": "HtivyjAoBnPt"
      },
      "execution_count": null,
      "outputs": []
    },
    {
      "cell_type": "code",
      "execution_count": 7,
      "metadata": {
        "colab": {
          "base_uri": "https://localhost:8080/"
        },
        "id": "Zg-PdPZr-dQH",
        "outputId": "ed2ec53c-bf06-4b09-9a1b-3168335b3c29"
      },
      "outputs": [
        {
          "output_type": "stream",
          "name": "stdout",
          "text": [
            "[80, 70, 60, 50, 40, 30, 20, 10]\n",
            "[80, 70, 60, 50, 40, 30, 20, 10]\n"
          ]
        }
      ],
      "source": [
        "print(my_list[::-1])  # Output: [80, 70, 60, 50, 40, 30, 20, 10]\n",
        "print(my_list[7::-1]) # Equivalent"
      ]
    },
    {
      "cell_type": "markdown",
      "metadata": {
        "id": "TEjE8cXL-dQH"
      },
      "source": [
        "**Copying a list using slicing**"
      ]
    },
    {
      "cell_type": "code",
      "execution_count": 8,
      "metadata": {
        "colab": {
          "base_uri": "https://localhost:8080/"
        },
        "id": "Q1_FPszM-dQH",
        "outputId": "c114b6ae-55cd-4fdb-db22-e5fbfc200889"
      },
      "outputs": [
        {
          "output_type": "stream",
          "name": "stdout",
          "text": [
            "[10, 20, 30, 40, 50, 60, 70, 80]\n",
            "[10, 20, 30, 40, 50, 60, 70, 80]\n",
            "[0, 20, 30, 40, 50, 60, 70, 80]\n",
            "[80, 70, 60, 50, 40, 30, 20, 10]\n",
            "[1000, 20, 30, 40, 50, 60, 70, 80]\n",
            "<class 'list'>\n",
            "<class 'list'>\n",
            "False\n"
          ]
        }
      ],
      "source": [
        "# Create a copy of the entire list using slicing\n",
        "copy_list = my_list[:] # This is useful for when ypou want to make a copy of a batch (chuck of the original data set)\n",
        "copy_list_backward = my_list[7::-1]\n",
        "\n",
        "print(copy_list) # Output: [10, 20, 30, 40, 50, 60, 70, 80]\n",
        "copy_list[0] = 0 # When you change the value of one variable, it does not affect the other becuase they are different memory addresss\n",
        "print(my_list)\n",
        "print(copy_list)\n",
        "print(copy_list_backward)\n",
        "\n",
        "another_copy = my_list # These result in the SAME memory address, so when you change 1, you change both lists\n",
        "# Optional Homework: Draw the RAM diagram\n",
        "my_list[0] = 1000\n",
        "print(another_copy)\n",
        "\n",
        "print(type(copy_list)) # This is a list datatype\n",
        "print(type(another_copy)) # This is a list datatype\n",
        "print(copy_list is another_copy) # Is the memory soace shared between the 2 variable? No\n"
      ]
    },
    {
      "cell_type": "markdown",
      "metadata": {
        "id": "0KQgb3lT-dQH"
      },
      "source": [
        "**Question:** What is the difference between normal copy (`list2` = `list1`) and copy with slicing (`list2`=`list1[:]`)?"
      ]
    },
    {
      "cell_type": "markdown",
      "source": [
        "# Draw Ram"
      ],
      "metadata": {
        "id": "C4fZpfk8D4ik"
      }
    },
    {
      "cell_type": "code",
      "source": [
        "my_list = [10, 20, 30, 40, 50, 60, 70, 80]\n",
        "\n",
        "copy_list = my_list[:]         # slicing copy\n",
        "another_copy = my_list         # reference\n",
        "\n",
        "print(\"my_list id:\", id(my_list))\n",
        "print(\"copy_list id:\", id(copy_list))\n",
        "print(\"another_copy id:\", id(another_copy))\n",
        "\n",
        "print(copy_list is my_list)      # False → different objects\n",
        "print(another_copy is my_list)   # True → same object\n"
      ],
      "metadata": {
        "colab": {
          "base_uri": "https://localhost:8080/"
        },
        "id": "6d0jdbi4EBdR",
        "outputId": "48614136-ca0f-4754-f173-748d4ceac56b"
      },
      "execution_count": 11,
      "outputs": [
        {
          "output_type": "stream",
          "name": "stdout",
          "text": [
            "my_list id: 135991047003712\n",
            "copy_list id: 135991047002240\n",
            "another_copy id: 135991047003712\n",
            "False\n",
            "True\n"
          ]
        }
      ]
    },
    {
      "cell_type": "markdown",
      "metadata": {
        "id": "jh7l1Bdx-dQH"
      },
      "source": [
        "## List Comprehension"
      ]
    },
    {
      "cell_type": "markdown",
      "metadata": {
        "id": "UVa6huKn-dQH"
      },
      "source": [
        "List comprehension can be replaced by a `for` loop. However, it is more concise and readable. As a data scientis, it is a good practice to use list comprehension when possible."
      ]
    },
    {
      "cell_type": "markdown",
      "metadata": {
        "id": "sLGsTv-9-dQH"
      },
      "source": [
        "**Map data from one list to another list**"
      ]
    },
    {
      "cell_type": "code",
      "execution_count": null,
      "metadata": {
        "id": "ua-6T-Ka-dQH"
      },
      "outputs": [],
      "source": [
        "nums = [0, 1, 2, 3, 4]\n",
        "squares = []\n",
        "for x in nums:\n",
        "    squares.append(x ** 2)\n",
        "print(squares)   # Prints [0, 1, 4, 9, 16]"
      ]
    },
    {
      "cell_type": "code",
      "execution_count": null,
      "metadata": {
        "id": "GiTgQ_v8-dQH"
      },
      "outputs": [],
      "source": [
        "# list comprehensions (preferred)\n",
        "nums = [0, 1, 2, 3, 4]\n",
        "squares = [x ** 2 for x in nums]\n",
        "print(squares)   # Prints [0, 1, 4, 9, 16]"
      ]
    },
    {
      "cell_type": "markdown",
      "metadata": {
        "id": "uTbMur6w-dQI"
      },
      "source": [
        "**Filter data**"
      ]
    },
    {
      "cell_type": "code",
      "execution_count": 13,
      "metadata": {
        "colab": {
          "base_uri": "https://localhost:8080/"
        },
        "id": "0Hm7g4K2-dQI",
        "outputId": "30a4ceda-bd39-4454-cd23-45e4304a9854"
      },
      "outputs": [
        {
          "output_type": "stream",
          "name": "stdout",
          "text": [
            "[25, 49, 81]\n",
            "[1, 2, 4]\n"
          ]
        }
      ],
      "source": [
        "nums = [0, 1, 2, -3, 4, -5]\n",
        "\n",
        "# Remember that list comprehension appends the return value to the variable assignment\n",
        "odd_squares_under_90 = [i ** 2 for i in range(5, 15, 2) if (i<= 9)]\n",
        "print(odd_squares_under_90)\n",
        "\n",
        "#filter pisitive numbers\n",
        "even_squares = [x for x in nums if x > 0]\n",
        "print(even_squares)  # Prints \"[0, 4, 16]\""
      ]
    },
    {
      "cell_type": "markdown",
      "metadata": {
        "id": "HRCZwEZT-dQI"
      },
      "source": [
        "## Lambda functions (anonymous functions)"
      ]
    },
    {
      "cell_type": "markdown",
      "metadata": {
        "id": "4uFmNyKG-dQI"
      },
      "source": [
        "Sometimes, you only need a function for a quick operation, and there's no need to give it a name.\n",
        "`lambda` allows you to define functions on the fly, without cluttering your code with function names that are only used once.\n",
        "\n",
        "Syntax:\n",
        "\n",
        "```python\n",
        "#defining a nameless function in one line\n",
        "lambda arguments: expression\n",
        "```"
      ]
    },
    {
      "cell_type": "code",
      "execution_count": 14,
      "metadata": {
        "colab": {
          "base_uri": "https://localhost:8080/"
        },
        "id": "fbx8A5T4-dQI",
        "outputId": "cd05c327-defa-4e26-dfef-a46644cb6d33"
      },
      "outputs": [
        {
          "output_type": "stream",
          "name": "stdout",
          "text": [
            "30\n",
            "120\n"
          ]
        }
      ],
      "source": [
        "from functools import reduce\n",
        "\n",
        "\n",
        "# List of numbers\n",
        "numbers = [1, 2, 3, 4, 5]\n",
        "\n",
        "# Lambda functions are especially useful for converting category data into numerical data\n",
        "# Use reduce with lambda to calculate the product of all numbers\n",
        "result = reduce(lambda x, y: x * y, numbers) #what does the reduce function do?\n",
        "\n",
        "# Exactly the same function defined in the regular syntax\n",
        "def multiply(x, y):\n",
        "  return x * y\n",
        "\n",
        "# call the function to multiply 5 * 6\n",
        "print(multiply(5, 6))\n",
        "\n",
        "#First iteration: 1 * 2 = 2\n",
        "#Second iteration: 2 * 3 = 6\n",
        "#Third iteration: 6 * 4 = 24\n",
        "#Fourth iteration: 24 * 5 = 120\n",
        "\n",
        "print(result)  # Output: 120"
      ]
    },
    {
      "cell_type": "markdown",
      "metadata": {
        "id": "cOPqcKnb-dQI"
      },
      "source": [
        "**Note:** `reduce()` applies a function cumulatively to the items of an iterable (such as list), reducing them to a single result."
      ]
    },
    {
      "cell_type": "markdown",
      "metadata": {
        "id": "ufNAW6J0-dQI"
      },
      "source": [
        "Another approach is to use `def` to define a function. However, `def` is more suitable for functions that are used multiple times in your code."
      ]
    },
    {
      "cell_type": "code",
      "execution_count": 15,
      "metadata": {
        "colab": {
          "base_uri": "https://localhost:8080/"
        },
        "id": "vclWymSn-dQI",
        "outputId": "4f412a49-8ec3-440c-d639-0c140bf7de83"
      },
      "outputs": [
        {
          "output_type": "stream",
          "name": "stdout",
          "text": [
            "120\n"
          ]
        },
        {
          "output_type": "execute_result",
          "data": {
            "text/plain": [
              "<function __main__.<lambda>(num, prod, exp)>"
            ]
          },
          "metadata": {},
          "execution_count": 15
        }
      ],
      "source": [
        "def product(x, y):\n",
        "    return x * y\n",
        "\n",
        "# Product represents the _______definition______ of a function\n",
        "result = reduce(product, numbers)  # Output: 120\n",
        "print(result)  # Output: 120\n",
        "\n",
        "# Will the function below return or value when it is called\n",
        "lambda num, prod, exp: (prod * num - exp)"
      ]
    },
    {
      "cell_type": "markdown",
      "metadata": {
        "id": "9z_QoBm4-dQI"
      },
      "source": [
        "**Note:**  we don't call a fucntion product(x, y), instead we pass the function itself (functional programming). So with `lambda`, we can pass an function without name (anonymous) as an argument to another function."
      ]
    },
    {
      "cell_type": "markdown",
      "metadata": {
        "id": "py8muCF8-dQJ"
      },
      "source": [
        "We use `lambda` function next session when we talk about `Pandas` library for data manipulation (e.g., filtering rows, selecting columns, and applying functions to columns)."
      ]
    },
    {
      "cell_type": "markdown",
      "metadata": {
        "id": "xber_vw0-dQJ"
      },
      "source": [
        "## Dictionary\n",
        "`Dictionary` in python is a very useful data structure to represents data in key-value pairs. We're going to talk about the other represntation of data such `pandas dataframe` in this course. But keep in mind, conceptually, they are other manifestation of `dictionary` in python with some addtion features to make it easier to work with data."
      ]
    },
    {
      "cell_type": "code",
      "execution_count": 18,
      "metadata": {
        "id": "hnrLzGpv-dQJ"
      },
      "outputs": [],
      "source": [
        "simple_dictionary = {\n",
        "    \"datatype\" : \"dictionary\",\n",
        "    \"length\": (3,0),\n",
        "    \"datatype_start_length\": \"d\"\n",
        "}\n",
        "\n",
        "data_dict = {'Name': ['Alice', 'Bob', 'Aritra'],\n",
        "                   'Age': [25, 30, 35],\n",
        "                   'Location': ['Seattle', 'New York', 'Kona']\n",
        "             }"
      ]
    },
    {
      "cell_type": "code",
      "execution_count": 19,
      "metadata": {
        "colab": {
          "base_uri": "https://localhost:8080/"
        },
        "id": "wYGrlPrg-dQJ",
        "outputId": "6df9c360-5059-44f6-b2d2-be602cb6dc96"
      },
      "outputs": [
        {
          "output_type": "stream",
          "name": "stdout",
          "text": [
            "(3, 0)\n",
            "35\n"
          ]
        }
      ],
      "source": [
        "print(simple_dictionary[\"length\"])\n",
        "\n",
        "print(data_dict['Age'][2])  # Output: Alice"
      ]
    },
    {
      "cell_type": "markdown",
      "metadata": {
        "id": "6JchoU0r-dQJ"
      },
      "source": [
        "This data is in the form of `dictionaly of lists`. We can also express it in the form of `list of dictionaries` as shown below:"
      ]
    },
    {
      "cell_type": "code",
      "execution_count": null,
      "metadata": {
        "id": "Z_dTyiF3-dQJ"
      },
      "outputs": [],
      "source": [
        "data_list = [{'Name': 'Alice', 'Age': 25, 'Location': 'Seattle'},\n",
        "         {'Name': 'Bob', 'Age': 30, 'Location': 'New York'},\n",
        "         {'Name': 'Aritra', 'Age': 35, 'Location': 'Kona'}]"
      ]
    },
    {
      "cell_type": "code",
      "execution_count": null,
      "metadata": {
        "id": "outaafC8-dQJ"
      },
      "outputs": [],
      "source": [
        "print(data_list[0]['Name'])  # Output: Alice"
      ]
    },
    {
      "cell_type": "markdown",
      "metadata": {
        "id": "GBPLGV44-dQJ"
      },
      "source": [
        "## Instructions\n",
        "Use the links to write your codes in LeetCode website. After writing your code, copy and paste it from LeetCode the `.html` file. Submit the `.html` file in the assignment submission area on D2L.\n",
        "\n",
        "**Important Note:** Mention in your text file whether your code accepted or not. There is NO penalty for wrong answers. The purpose of this assignment is to practice coding.\n",
        "\n",
        "\n",
        "### LeetCode problems on Dictionary\n",
        "\n",
        "**217. Contains Duplicate** - Live programming\n",
        "\n",
        "https://leetcode.com/problems/contains-duplicate/description/\n",
        "\n",
        "\n",
        "**242. Valid Anagram**\n",
        "\n",
        "https://leetcode.com/problems/valid-anagram/description/\n",
        "\n",
        "**1. Two Sum**\n",
        "\n",
        "https://leetcode.com/problems/two-sum/description/\n",
        "\n",
        "**26. Remove Duplicates from Sorted Array**\n",
        "\n",
        "https://leetcode.com/problems/remove-duplicates-from-sorted-array/description/"
      ]
    },
    {
      "cell_type": "markdown",
      "metadata": {
        "id": "USYkbY_M-dQJ"
      },
      "source": [
        "## Practice: Generators"
      ]
    },
    {
      "cell_type": "code",
      "execution_count": 25,
      "metadata": {
        "colab": {
          "base_uri": "https://localhost:8080/"
        },
        "id": "LKgNxTIo-dQK",
        "outputId": "7dde04a0-9480-4574-c264-0caf15f39db8"
      },
      "outputs": [
        {
          "output_type": "execute_result",
          "data": {
            "text/plain": [
              "0"
            ]
          },
          "metadata": {},
          "execution_count": 25
        }
      ],
      "source": [
        "# For Machine Learning, there is often a large set of data that must be processed\n",
        "# Need generators to save on memory space when looping over a large data set or infinite loop\n",
        "def infinite_sequence():\n",
        "    num = 0\n",
        "    while True:\n",
        "        yield num # yield keyword it asks the system to use a generator and only loads one item in memory at a time\n",
        "        # print(num) # This prints out the PREVIOUS number\n",
        "        num += 1 #This moves the number/iterator\n",
        "\n",
        "gen = infinite_sequence()\n",
        "print(gen)\n",
        "# In a ML notebook (e.g. Google Collab) it will often print without the print being specified\n",
        "print(next(gen)) # Function moves an iterator to the next item"
      ]
    },
    {
      "cell_type": "code",
      "execution_count": 26,
      "metadata": {
        "colab": {
          "base_uri": "https://localhost:8080/"
        },
        "id": "D-jTs-At-dQK",
        "outputId": "00769c9a-deaf-4797-aa20-3118159804a6"
      },
      "outputs": [
        {
          "output_type": "stream",
          "name": "stdout",
          "text": [
            "0\n"
          ]
        },
        {
          "output_type": "execute_result",
          "data": {
            "text/plain": [
              "1"
            ]
          },
          "metadata": {},
          "execution_count": 26
        }
      ],
      "source": [
        "next(gen) # although we don't see the value to printed the in iterator has moved to point to the number two"
      ]
    },
    {
      "cell_type": "code",
      "execution_count": 27,
      "metadata": {
        "colab": {
          "base_uri": "https://localhost:8080/"
        },
        "id": "yN7XF9a6-dQL",
        "outputId": "03a602f0-0468-48f2-ba23-1e185202aa07"
      },
      "outputs": [
        {
          "output_type": "stream",
          "name": "stdout",
          "text": [
            "1\n"
          ]
        },
        {
          "output_type": "execute_result",
          "data": {
            "text/plain": [
              "2"
            ]
          },
          "metadata": {},
          "execution_count": 27
        }
      ],
      "source": [
        "next(gen)"
      ]
    },
    {
      "cell_type": "code",
      "source": [
        "next(gen)"
      ],
      "metadata": {
        "colab": {
          "base_uri": "https://localhost:8080/"
        },
        "id": "Ok_ZlxSKIZ0Q",
        "outputId": "7b358662-d528-47b4-80d7-3df66584312a"
      },
      "execution_count": 28,
      "outputs": [
        {
          "output_type": "stream",
          "name": "stdout",
          "text": [
            "2\n"
          ]
        },
        {
          "output_type": "execute_result",
          "data": {
            "text/plain": [
              "3"
            ]
          },
          "metadata": {},
          "execution_count": 28
        }
      ]
    },
    {
      "cell_type": "markdown",
      "metadata": {
        "id": "Ah99pfbs-dQL"
      },
      "source": [
        "## Practice: Exceptions and errors"
      ]
    },
    {
      "cell_type": "code",
      "execution_count": 30,
      "metadata": {
        "id": "eWaRfMOB-dQL"
      },
      "outputs": [],
      "source": [
        "# Options for using exceptions:\n",
        "# 1. raise/throw a built-in exception\n",
        "# 2. create a custom exception, and then raise/throw it"
      ]
    },
    {
      "cell_type": "code",
      "execution_count": 35,
      "metadata": {
        "colab": {
          "base_uri": "https://localhost:8080/"
        },
        "id": "dZhBlojs-dQL",
        "outputId": "d256a02a-ecbf-42c3-efac-da7e4a62b5eb"
      },
      "outputs": [
        {
          "output_type": "stream",
          "name": "stdout",
          "text": [
            "SIN number is valid\n"
          ]
        }
      ],
      "source": [
        "class CustomValueError(Exception):\n",
        "  def __init__(self, message):\n",
        "    super().__init__(message)\n",
        "\n",
        "# raise keyword can be used to raise/throw an error during production (live running of the code)\n",
        "sin_number = 111111112 # Business constraint: SIN number is always 9 digits\n",
        "# Programming constraint -> Raise/throw the error\n",
        "\n",
        "# raise keyword passes the control of the computer to the error handler.\n",
        "# And does not continue the regular execution of the code\n",
        "try:\n",
        "    # Put any code that MIGHT POTENTIALLY give an error into the tribe block\n",
        "    if len(str(sin_number)) != 9:\n",
        "       # Raise keyboard equivalent to throw (in other languages)\n",
        "        raise ValueError(\"SIN number must be exactly 9 digits\");\n",
        "    else:\n",
        "        print(\"SIN number is valid\")\n",
        "# except keyboard is equivalent to (in other languages)\n",
        "except(ValueError) as valueErrorObject:\n",
        "        print(f\"SIN number invalid: {valueErrorObject}\")"
      ]
    },
    {
      "cell_type": "code",
      "execution_count": 33,
      "metadata": {
        "colab": {
          "base_uri": "https://localhost:8080/"
        },
        "id": "hX8yuik3-dQL",
        "outputId": "97c94485-89ce-4367-bc68-a668321ee0f1"
      },
      "outputs": [
        {
          "output_type": "stream",
          "name": "stdout",
          "text": [
            "division by zero\n"
          ]
        }
      ],
      "source": [
        "try:\n",
        "  quotient = 1/0 # This will raise an error on its own\n",
        "except(ZeroDivisionError) as z:\n",
        "  print(z)"
      ]
    },
    {
      "cell_type": "code",
      "execution_count": 36,
      "metadata": {
        "colab": {
          "base_uri": "https://localhost:8080/"
        },
        "id": "muJrO9qW-dQL",
        "outputId": "1b246887-0d1b-414b-a3d6-7b5ebcebb579"
      },
      "outputs": [
        {
          "output_type": "stream",
          "name": "stdout",
          "text": [
            "Assertion passed: SIN number is 9 digits\n"
          ]
        }
      ],
      "source": [
        "# assert() function can be used for unit testing\n",
        "try:\n",
        "    assert(len(str(sin_number)) == 9), f\"The SIN number must be exactly 9 digits, but was: {sin_number}\"\n",
        "    print(\"Assertion passed: SIN number is 9 digits\")\n",
        "except AssertionError as e:\n",
        "    print(f\"Assertion failed: {e}\")"
      ]
    }
  ],
  "metadata": {
    "kernelspec": {
      "display_name": ".pydata",
      "language": "python",
      "name": "python3"
    },
    "language_info": {
      "codemirror_mode": {
        "name": "ipython",
        "version": 3
      },
      "file_extension": ".py",
      "mimetype": "text/x-python",
      "name": "python",
      "nbconvert_exporter": "python",
      "pygments_lexer": "ipython3",
      "version": "3.11.4"
    },
    "colab": {
      "provenance": []
    }
  },
  "nbformat": 4,
  "nbformat_minor": 0
}