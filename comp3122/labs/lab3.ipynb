{
  "cells": [
    {
      "cell_type": "markdown",
      "metadata": {
        "id": "QJeQKfdnLiEW"
      },
      "source": [
        "# Lab exercise, week 3 - numpy & matplotlib basics\n",
        "\n",
        "Contents:\n",
        "- Overview of numpy arrays\n",
        "- Exercises for numpy\n",
        "- Exercises for plotting"
      ]
    },
    {
      "cell_type": "markdown",
      "metadata": {
        "id": "Pg30tBrPLiEW"
      },
      "source": [
        "## NumPy - overview\n",
        "\n",
        "Python lists are somewhat weird creatures. In contrast to basic array types in other languages like C# and Java, they can hold objects of different types and new elements can be inserted in the middle. NumPy arrays are much more like C# arrays - all elements have the same type."
      ]
    },
    {
      "cell_type": "code",
      "execution_count": null,
      "metadata": {
        "id": "gb0QkM_CLiEW"
      },
      "outputs": [],
      "source": [
        "# by convention numpy is always imported as np\n",
        "import numpy as np"
      ]
    },
    {
      "cell_type": "markdown",
      "metadata": {
        "id": "jZ_NjfXVLiEW"
      },
      "source": [
        "### Common ways of creating numpy arrays"
      ]
    },
    {
      "cell_type": "code",
      "execution_count": null,
      "metadata": {
        "id": "_z6KdRdnLiEW",
        "outputId": "53ca8b2f-7908-4f11-bea9-87dde78bff2a"
      },
      "outputs": [
        {
          "data": {
            "text/plain": [
              "array([ 5,  2, 17])"
            ]
          },
          "execution_count": 3,
          "metadata": {},
          "output_type": "execute_result"
        }
      ],
      "source": [
        "a = np.array([5, 2, 17])  # Convert a Python list into a numpy array\n",
        "a"
      ]
    },
    {
      "cell_type": "code",
      "execution_count": null,
      "metadata": {
        "id": "zYnJ6Z7wLiEX",
        "outputId": "67a7ab28-2d66-4c27-860f-ef27cc6584f0"
      },
      "outputs": [
        {
          "data": {
            "text/plain": [
              "array([[5, 7, 2],\n",
              "       [9, 4, 1]])"
            ]
          },
          "execution_count": 4,
          "metadata": {},
          "output_type": "execute_result"
        }
      ],
      "source": [
        "# List of lists gets converted into a 2D array\n",
        "np.array([[5, 7, 2],\n",
        "          [9, 4, 1]])\n"
      ]
    },
    {
      "cell_type": "code",
      "execution_count": null,
      "metadata": {
        "id": "TNVmjtenLiEX",
        "outputId": "a7f92b93-b402-4c94-fe3c-bb078691d5e1"
      },
      "outputs": [
        {
          "data": {
            "text/plain": [
              "array([0, 1, 2, 3, 4])"
            ]
          },
          "execution_count": 6,
          "metadata": {},
          "output_type": "execute_result"
        }
      ],
      "source": [
        "np.arange(5)  # Same as Python's range() but creates a numpy array"
      ]
    },
    {
      "cell_type": "code",
      "execution_count": null,
      "metadata": {
        "id": "wC7Za0UCLiEX",
        "outputId": "57d7d292-32ca-4976-d89c-2a54ebc9b4be"
      },
      "outputs": [
        {
          "data": {
            "text/plain": [
              "array([0., 0., 0., 0., 0.])"
            ]
          },
          "execution_count": 7,
          "metadata": {},
          "output_type": "execute_result"
        }
      ],
      "source": [
        "np.zeros(5)  # Create a numpy array with five elements, all set to zero"
      ]
    },
    {
      "cell_type": "code",
      "execution_count": null,
      "metadata": {
        "id": "PKlBE7cGLiEX",
        "outputId": "10e4d78d-0793-4b7a-97cd-cc82cf6ce788"
      },
      "outputs": [
        {
          "data": {
            "text/plain": [
              "array([1., 1., 1., 1., 1., 1., 1.])"
            ]
          },
          "execution_count": 8,
          "metadata": {},
          "output_type": "execute_result"
        }
      ],
      "source": [
        "c = np.ones(7)  # Create a numpy array with five elements, all set to 1\n",
        "c\n"
      ]
    },
    {
      "cell_type": "code",
      "execution_count": null,
      "metadata": {
        "id": "lqbJqp_gLiEX",
        "outputId": "b59a74c8-8cb1-44b0-ec0f-608405f47896"
      },
      "outputs": [
        {
          "data": {
            "text/plain": [
              "array([0.14654318, 0.24300736, 0.74564537, 0.58652819, 0.39433085,\n",
              "       0.94389319])"
            ]
          },
          "execution_count": 9,
          "metadata": {},
          "output_type": "execute_result"
        }
      ],
      "source": [
        "# Array of 6 random numbers between 0 and 1\n",
        "np.random.rand(6)"
      ]
    },
    {
      "cell_type": "code",
      "execution_count": null,
      "metadata": {
        "id": "amzvhWlxLiEX",
        "outputId": "ef2b13f8-b284-4fb1-9a40-dc2e70883db1"
      },
      "outputs": [
        {
          "data": {
            "text/plain": [
              "array([64, 97,  1, 69, 74, 72])"
            ]
          },
          "execution_count": 10,
          "metadata": {},
          "output_type": "execute_result"
        }
      ],
      "source": [
        "# array with 6 random integers between 0 and 100 (not including 100 as usual)\n",
        "np.random.randint(100, size=6)"
      ]
    },
    {
      "cell_type": "markdown",
      "metadata": {
        "id": "YL2jOKBeLiEX"
      },
      "source": [
        "### Array properties"
      ]
    },
    {
      "cell_type": "code",
      "execution_count": null,
      "metadata": {
        "id": "L4DbFUh1LiEX",
        "outputId": "07d91a30-b824-480e-d085-6eea59822a25"
      },
      "outputs": [
        {
          "data": {
            "text/plain": [
              "array([[5, 7, 2],\n",
              "       [9, 4, 1]])"
            ]
          },
          "execution_count": 11,
          "metadata": {},
          "output_type": "execute_result"
        }
      ],
      "source": [
        "b = np.array([[5, 7, 2],\n",
        "              [9, 4, 1]])\n",
        "b"
      ]
    },
    {
      "cell_type": "code",
      "execution_count": null,
      "metadata": {
        "id": "U7q9ehYvLiEX",
        "outputId": "956c5450-c193-4034-b453-75a1253238ca"
      },
      "outputs": [
        {
          "data": {
            "text/plain": [
              "dtype('int64')"
            ]
          },
          "execution_count": 12,
          "metadata": {},
          "output_type": "execute_result"
        }
      ],
      "source": [
        "# Data type of the array\n",
        "a.dtype"
      ]
    },
    {
      "cell_type": "code",
      "execution_count": null,
      "metadata": {
        "id": "A8lRiQM1LiEX",
        "outputId": "55458b5e-6971-4fd1-f3d4-abdb5a79789e"
      },
      "outputs": [
        {
          "data": {
            "text/plain": [
              "2"
            ]
          },
          "execution_count": 13,
          "metadata": {},
          "output_type": "execute_result"
        }
      ],
      "source": [
        "# number of dimensions\n",
        "b.ndim"
      ]
    },
    {
      "cell_type": "code",
      "execution_count": null,
      "metadata": {
        "id": "1gllwKFpLiEX",
        "outputId": "9fd1fa7a-7092-4154-ff49-92d77123b288"
      },
      "outputs": [
        {
          "data": {
            "text/plain": [
              "(2, 3)"
            ]
          },
          "execution_count": 14,
          "metadata": {},
          "output_type": "execute_result"
        }
      ],
      "source": [
        "# array shape is a Python tuple, in this case it's (2, 3) because b is a 2 by 3 array.\n",
        "b.shape"
      ]
    },
    {
      "cell_type": "code",
      "execution_count": null,
      "metadata": {
        "id": "DNsXj_64LiEX",
        "outputId": "bc7d92cc-8ce1-4629-aa24-c27f874b2f67"
      },
      "outputs": [
        {
          "data": {
            "text/plain": [
              "6"
            ]
          },
          "execution_count": 15,
          "metadata": {},
          "output_type": "execute_result"
        }
      ],
      "source": [
        "# The total number of elements\n",
        "b.size"
      ]
    },
    {
      "cell_type": "code",
      "execution_count": null,
      "metadata": {
        "id": "k7T2mk5jLiEX",
        "outputId": "1f404112-23de-4c7b-9837-6b9679813676"
      },
      "outputs": [
        {
          "data": {
            "text/plain": [
              "dtype('float64')"
            ]
          },
          "execution_count": 16,
          "metadata": {},
          "output_type": "execute_result"
        }
      ],
      "source": [
        "# Note that zeros byt default uses the float64 data type\n",
        "z = np.zeros(7)\n",
        "z.dtype"
      ]
    },
    {
      "cell_type": "code",
      "execution_count": null,
      "metadata": {
        "id": "1hbSBfOjLiEX",
        "outputId": "4402cbf6-7105-408b-99e3-8dc1deb06adc"
      },
      "outputs": [
        {
          "data": {
            "text/plain": [
              "dtype('int8')"
            ]
          },
          "execution_count": 17,
          "metadata": {},
          "output_type": "execute_result"
        }
      ],
      "source": [
        "# But data type can be set explicitly, almost all numpy functions that create arrays take an optional dtype parameter\n",
        "# Let's set it to an 8 bit integer\n",
        "z = np.zeros(7, dtype=np.int8)\n",
        "z.dtype"
      ]
    },
    {
      "cell_type": "markdown",
      "metadata": {
        "id": "3Hf33e5fLiEX"
      },
      "source": [
        "## Exercises\n",
        "\n",
        "Read section 2.2 of the book (The Basics of NumPy Arrays) and complete the tasks below.\n"
      ]
    },
    {
      "cell_type": "markdown",
      "metadata": {
        "id": "Ak-CBqiWLiEY"
      },
      "source": [
        "### Numpy Array Creation"
      ]
    },
    {
      "cell_type": "markdown",
      "metadata": {
        "id": "wbFTI7uQLiEY"
      },
      "source": [
        "##### Convert a list into a numpy array"
      ]
    },
    {
      "cell_type": "code",
      "execution_count": null,
      "metadata": {
        "id": "rX7irAnILiEY",
        "outputId": "8aba095d-c13e-44cb-f7b1-2b357ed754e6"
      },
      "outputs": [
        {
          "data": {
            "text/plain": [
              "[5, 3, 8, 4]"
            ]
          },
          "execution_count": 113,
          "metadata": {},
          "output_type": "execute_result"
        }
      ],
      "source": [
        "lst = [5, 3, 8, 4]\n",
        "lst"
      ]
    },
    {
      "cell_type": "code",
      "execution_count": null,
      "metadata": {
        "id": "bbxgAPIDLiEY"
      },
      "outputs": [],
      "source": [
        "# Convert list to numpy array with clear variable name\n",
        "import numpy as np\n",
        "x = np.array(lst)\n",
        "x"
      ]
    },
    {
      "cell_type": "markdown",
      "metadata": {
        "id": "h-21eWM6LiEY"
      },
      "source": [
        "#### What happens when you multiply a list by 3, what a about an array multiplied by 3?"
      ]
    },
    {
      "cell_type": "code",
      "execution_count": null,
      "metadata": {
        "id": "A7TYek-ULiEY"
      },
      "outputs": [],
      "source": [
        "# Demonstrate list*3 vs array*3\n",
        "lst_times3 = lst * 3  # concatenates list 3 times\n",
        "arr_times3 = np.array(lst) * 3  # element-wise multiply\n",
        "lst_times3, arr_times3"
      ]
    },
    {
      "cell_type": "markdown",
      "metadata": {
        "id": "snfLb31vLiEY"
      },
      "source": [
        "#### Create an array of 10 ones [1, 1, 1, ... ]"
      ]
    },
    {
      "cell_type": "code",
      "execution_count": null,
      "metadata": {
        "id": "PcAh_FcGLiEY"
      },
      "outputs": [],
      "source": [
        "ones10 = np.ones(10, dtype=int)\n",
        "ones10"
      ]
    },
    {
      "cell_type": "markdown",
      "metadata": {
        "id": "2aN_8VBXLiEY"
      },
      "source": [
        "#### Create an array of 10 fives [5, 5, 5, .... ]"
      ]
    },
    {
      "cell_type": "code",
      "execution_count": null,
      "metadata": {
        "id": "3AQeXF4NLiEY"
      },
      "outputs": [],
      "source": [
        "fives10 = np.full(10, 5, dtype=int)\n",
        "fives10"
      ]
    },
    {
      "cell_type": "markdown",
      "metadata": {
        "id": "brRPVgVoLiEY"
      },
      "source": [
        "#### Create an array of the integers from 10 to 50 (including 50)"
      ]
    },
    {
      "cell_type": "code",
      "execution_count": null,
      "metadata": {
        "id": "TFEbRE30LiEY"
      },
      "outputs": [],
      "source": [
        "ints_10_to_50 = np.arange(10, 51)\n",
        "ints_10_to_50"
      ]
    },
    {
      "cell_type": "markdown",
      "metadata": {
        "id": "TVtuubF1LiEY"
      },
      "source": [
        "#### Create an array of 10 random numbers between 0 and 5"
      ]
    },
    {
      "cell_type": "code",
      "execution_count": null,
      "metadata": {
        "id": "LqxpxsSMLiEY"
      },
      "outputs": [],
      "source": [
        "np.random.seed(42)\n",
        "rand_0_5 = np.random.uniform(0, 5, size=10)\n",
        "rand_0_5"
      ]
    },
    {
      "cell_type": "markdown",
      "metadata": {
        "id": "2lTb3Cs3LiEY"
      },
      "source": [
        "#### Read the help for np.linspace function and create an array of 11 evenly spaced elements between 0 and 2\n",
        "use `np.linspace?` or `?np.linspace` to show the help"
      ]
    },
    {
      "cell_type": "code",
      "execution_count": null,
      "metadata": {
        "id": "OwSEuZ7bLiEY"
      },
      "outputs": [],
      "source": [
        "# np.linspace creates evenly spaced numbers over an interval\n",
        "lin_0_2_11 = np.linspace(0, 2, 11)\n",
        "lin_0_2_11"
      ]
    },
    {
      "cell_type": "markdown",
      "metadata": {
        "id": "ZA3LFbErLiEY"
      },
      "source": [
        "#### Create a 3 by 4 array of ones"
      ]
    },
    {
      "cell_type": "code",
      "execution_count": null,
      "metadata": {
        "id": "JdipbwnnLiEY"
      },
      "outputs": [],
      "source": [
        "ones_3x4 = np.ones((3, 4), dtype=int)\n",
        "ones_3x4"
      ]
    },
    {
      "cell_type": "markdown",
      "metadata": {
        "id": "W3PEeJVTLiEc"
      },
      "source": [
        "#### Create a 3 by 4 array of fives"
      ]
    },
    {
      "cell_type": "code",
      "execution_count": null,
      "metadata": {
        "id": "HaZfv3-8LiEc"
      },
      "outputs": [],
      "source": [
        "fives_3x4 = np.full((3, 4), 5, dtype=int)\n",
        "fives_3x4"
      ]
    },
    {
      "cell_type": "markdown",
      "metadata": {
        "id": "3fS1VUnDLiEc"
      },
      "source": [
        "### Array Indexing\n",
        "Using the following arrays `a` and `m` for the questions below"
      ]
    },
    {
      "cell_type": "code",
      "execution_count": null,
      "metadata": {
        "id": "n2KxVXV0LiEc",
        "outputId": "cc154887-03e5-4c7c-81b5-fbea7b3c8686"
      },
      "outputs": [
        {
          "data": {
            "text/plain": [
              "array([10, 11, 12, 13, 14, 15, 16, 17, 18, 19, 20])"
            ]
          },
          "execution_count": 19,
          "metadata": {},
          "output_type": "execute_result"
        }
      ],
      "source": [
        "a = np.arange(10,21)\n",
        "a"
      ]
    },
    {
      "cell_type": "code",
      "execution_count": null,
      "metadata": {
        "id": "cNWI-tfILiEc",
        "outputId": "17b647e9-b670-41a6-d39f-3a3c9e04c45f"
      },
      "outputs": [
        {
          "data": {
            "text/plain": [
              "array([[ 1,  2,  3,  4,  5,  6,  7],\n",
              "       [ 8,  9, 10, 11, 12, 13, 14],\n",
              "       [15, 16, 17, 18, 19, 20, 21]])"
            ]
          },
          "execution_count": 20,
          "metadata": {},
          "output_type": "execute_result"
        }
      ],
      "source": [
        "m = np.arange(1,22).reshape((3,7))\n",
        "m"
      ]
    },
    {
      "cell_type": "markdown",
      "metadata": {
        "id": "GOhf-1W1LiEc"
      },
      "source": [
        "### Create an array containing...\n",
        "#### the first 4 elements of a"
      ]
    },
    {
      "cell_type": "code",
      "execution_count": null,
      "metadata": {
        "id": "pOZxFk7RLiEc"
      },
      "outputs": [],
      "source": [
        "a[:4]  # first 4 elements"
      ]
    },
    {
      "cell_type": "markdown",
      "metadata": {
        "id": "fPBQ3nvfLiEd"
      },
      "source": [
        "#### the last 3 elements of a"
      ]
    },
    {
      "cell_type": "code",
      "execution_count": null,
      "metadata": {
        "id": "KeWkrOUhLiEd"
      },
      "outputs": [],
      "source": [
        "a[-3:]  # last 3 elements"
      ]
    },
    {
      "cell_type": "markdown",
      "metadata": {
        "id": "QnDqrFqGLiEd"
      },
      "source": [
        "#### The middle elements of a from 15 to 18 inclusive"
      ]
    },
    {
      "cell_type": "code",
      "execution_count": null,
      "metadata": {
        "id": "a6tw-s20LiEd"
      },
      "outputs": [],
      "source": [
        "a[5:9]  # 15..18 inclusive since a = 10..20"
      ]
    },
    {
      "cell_type": "markdown",
      "metadata": {
        "id": "iRuoYGnlLiEd"
      },
      "source": [
        "#### The first column of m"
      ]
    },
    {
      "cell_type": "code",
      "execution_count": null,
      "metadata": {
        "id": "AzUUYj5zLiEd"
      },
      "outputs": [],
      "source": [
        "m[:, 0]  # first column"
      ]
    },
    {
      "cell_type": "markdown",
      "metadata": {
        "id": "4Hq4jWTqLiEd"
      },
      "source": [
        "#### The middle row of m"
      ]
    },
    {
      "cell_type": "code",
      "execution_count": null,
      "metadata": {
        "id": "N3nltWwLLiEd"
      },
      "outputs": [],
      "source": [
        "m[1, :]  # middle row (row index 1)"
      ]
    },
    {
      "cell_type": "markdown",
      "metadata": {
        "id": "s9jGwz5jLiEd"
      },
      "source": [
        "#### The left 3 columns of m"
      ]
    },
    {
      "cell_type": "code",
      "execution_count": null,
      "metadata": {
        "id": "5Xr-T3J8LiEd"
      },
      "outputs": [],
      "source": [
        "m[:, :3]  # left 3 columns"
      ]
    },
    {
      "cell_type": "markdown",
      "metadata": {
        "id": "u1FCMJ3BLiEd"
      },
      "source": [
        "#### The bottom-right 2 by 2 square"
      ]
    },
    {
      "cell_type": "code",
      "execution_count": null,
      "metadata": {
        "id": "-AKjWq7HLiEd"
      },
      "outputs": [],
      "source": [
        "m[-2:, -2:]  # bottom-right 2x2 square"
      ]
    },
    {
      "cell_type": "markdown",
      "metadata": {
        "id": "oyHmYpOLLiEd"
      },
      "source": [
        "#### (bonus) every other element of a  "
      ]
    },
    {
      "cell_type": "code",
      "execution_count": null,
      "metadata": {
        "id": "yVrlc_SnLiEd"
      },
      "outputs": [],
      "source": [
        "a[::2]  # every other element"
      ]
    },
    {
      "cell_type": "markdown",
      "metadata": {
        "id": "KTAHmPttLiEd"
      },
      "source": [
        "### Array Math"
      ]
    },
    {
      "cell_type": "markdown",
      "metadata": {
        "id": "zVZERipoLiEd"
      },
      "source": [
        "#### Subtract 5 from each element of a"
      ]
    },
    {
      "cell_type": "code",
      "execution_count": null,
      "metadata": {
        "id": "TlKSxM-KLiEd"
      },
      "outputs": [],
      "source": [
        "(a - 5)  # subtract 5 from each element"
      ]
    },
    {
      "cell_type": "markdown",
      "metadata": {
        "id": "NNSZfHEMLiEd"
      },
      "source": [
        "#### Create an array containing squares of all numbers from 1 to 10 (inclusive)"
      ]
    },
    {
      "cell_type": "code",
      "execution_count": null,
      "metadata": {
        "id": "efCCG5m8LiEd"
      },
      "outputs": [],
      "source": [
        "np.arange(1, 11) ** 2  # squares from 1 to 10"
      ]
    },
    {
      "cell_type": "markdown",
      "metadata": {
        "id": "FhXYQKuuLiEd"
      },
      "source": [
        "#### Create an array containing all powers of 2 from $2^0$ to $2^{10}$ (inclusive)"
      ]
    },
    {
      "cell_type": "code",
      "execution_count": null,
      "metadata": {
        "id": "x6yGQSHELiEd"
      },
      "outputs": [],
      "source": [
        "2 ** np.arange(0, 11)  # powers of two 2^0..2^10"
      ]
    },
    {
      "cell_type": "markdown",
      "metadata": {
        "id": "a9RwsYqvLiEd"
      },
      "source": [
        "#### Same as above (powers of two), but subtract one from each element, that is $a_k = 2^k - 1$"
      ]
    },
    {
      "cell_type": "code",
      "execution_count": null,
      "metadata": {
        "id": "-h-ku86aLiEd"
      },
      "outputs": [],
      "source": [
        "2 ** np.arange(0, 11) - 1  # 2^k - 1"
      ]
    },
    {
      "cell_type": "markdown",
      "metadata": {
        "id": "neuaN268LiEd"
      },
      "source": [
        "### Bonus task\n",
        "Write code that lists all available dtypes with specified number of bits"
      ]
    },
    {
      "cell_type": "code",
      "execution_count": null,
      "metadata": {
        "id": "3NMz2flyLiEd"
      },
      "outputs": [],
      "source": [
        "# List available NumPy dtypes with bit width (common ones)\n",
        "dtypes = [np.int8, np.int16, np.int32, np.int64,\n",
        "          np.uint8, np.uint16, np.uint32, np.uint64,\n",
        "          np.float16, np.float32, np.float64]\n",
        "[(dt.__name__, np.dtype(dt).itemsize * 8) for dt in dtypes]"
      ]
    },
    {
      "cell_type": "markdown",
      "metadata": {
        "id": "LARmroIyLiEe"
      },
      "source": [
        "## Plotting Basics\n",
        " - Use [this tutorial](https://matplotlib.org/users/pyplot_tutorial.html) as reference when (if) you get stuck\n",
        " - Execute the cells with imports, otherwise you won't have numpy and matplotlib imported and Python will complain"
      ]
    },
    {
      "cell_type": "code",
      "execution_count": null,
      "metadata": {
        "id": "GsNyJs2FLiEe"
      },
      "outputs": [],
      "source": [
        "import numpy as np\n",
        "import pandas as pd\n",
        "import matplotlib.pyplot as plt"
      ]
    },
    {
      "cell_type": "code",
      "execution_count": null,
      "metadata": {
        "id": "wL40OmbDLiEe"
      },
      "outputs": [],
      "source": [
        "# Load weather data from CSV\n",
        "weather = pd.read_csv('/mnt/data/OshawaWeather2016.csv')\n",
        "weather.head()"
      ]
    },
    {
      "cell_type": "code",
      "execution_count": null,
      "metadata": {
        "id": "EzdN5dOULiEe"
      },
      "outputs": [],
      "source": [
        "weather.shape"
      ]
    },
    {
      "cell_type": "code",
      "execution_count": null,
      "metadata": {
        "id": "rvV51u_MLiEe"
      },
      "outputs": [],
      "source": [
        "weather.dtypes"
      ]
    },
    {
      "cell_type": "markdown",
      "metadata": {
        "id": "CHROT5OMLiEe"
      },
      "source": [
        "#### Crate separate 1D arrays for each column (e.g: day, maxt, mint and so on)"
      ]
    },
    {
      "cell_type": "code",
      "execution_count": null,
      "metadata": {
        "id": "VYrwvnTNLiEe"
      },
      "outputs": [],
      "source": [
        "# Create 1D arrays from each column for easy NumPy operations\n",
        "_day = weather['Day'].to_numpy()\n",
        "_tmax = weather['Max Temp (°C)'].to_numpy()\n",
        "_tmin = weather['Min Temp (°C)'].to_numpy()\n",
        "_tmean = weather['Mean Temp (°C)'].to_numpy()\n",
        "_precip = weather['Total Precip (mm)'].to_numpy()\n",
        "(_day[:5], _tmax[:5], _tmin[:5], _tmean[:5], _precip[:5])"
      ]
    },
    {
      "cell_type": "markdown",
      "metadata": {
        "id": "cEF6huDKLiEe"
      },
      "source": [
        "#### Plot the minimum temperature as a function of day number"
      ]
    },
    {
      "cell_type": "code",
      "execution_count": null,
      "metadata": {
        "id": "7RSktemxLiEe"
      },
      "outputs": [],
      "source": [
        "# Min temp vs day\n",
        "plt.figure()\n",
        "plt.plot(_day, _tmin, label='Min Temp (°C)')\n",
        "plt.xlabel('Day of Year')\n",
        "plt.ylabel('Temperature (°C)')\n",
        "plt.title('Minimum Temperature vs Day')\n",
        "plt.legend()\n",
        "plt.grid(True)\n",
        "plt.show()"
      ]
    },
    {
      "cell_type": "markdown",
      "metadata": {
        "id": "JkWwW9rCLiEe"
      },
      "source": [
        "#### Plot the max temperature in degrees Fahrenheit"
      ]
    },
    {
      "cell_type": "code",
      "execution_count": null,
      "metadata": {
        "id": "JK5DAa-RLiEe"
      },
      "outputs": [],
      "source": [
        "# Max temperature in Fahrenheit vs day\n",
        "_tmax_f = (_tmax * 9/5) + 32\n",
        "plt.figure()\n",
        "plt.plot(_day, _tmax_f, label='Max Temp (°F)')\n",
        "plt.xlabel('Day of Year')\n",
        "plt.ylabel('Temperature (°F)')\n",
        "plt.title('Maximum Temperature (F) vs Day')\n",
        "plt.legend()\n",
        "plt.grid(True)\n",
        "plt.show()"
      ]
    },
    {
      "cell_type": "markdown",
      "metadata": {
        "id": "MtQ6P7l0LiEe"
      },
      "source": [
        "#### Plot the difference between the maximum and the minimum day temperature as a function of day number"
      ]
    },
    {
      "cell_type": "code",
      "execution_count": null,
      "metadata": {
        "id": "EbwNMlXVLiEe"
      },
      "outputs": [],
      "source": [
        "# Difference between max and min vs day\n",
        "_tdiff = _tmax - _tmin\n",
        "plt.figure()\n",
        "plt.plot(_day, _tdiff, label='Daily Temp Range (°C)')\n",
        "plt.xlabel('Day of Year')\n",
        "plt.ylabel('Δ Temp (°C)')\n",
        "plt.title('Daily Temperature Range')\n",
        "plt.legend()\n",
        "plt.grid(True)\n",
        "plt.show()"
      ]
    },
    {
      "cell_type": "markdown",
      "metadata": {
        "id": "XfOF55ouLiEe"
      },
      "source": [
        "#### Plot both, the minimum and maximum temperature on the same figure"
      ]
    },
    {
      "cell_type": "code",
      "execution_count": null,
      "metadata": {
        "id": "RM1RpESRLiEe"
      },
      "outputs": [],
      "source": [
        "# Plot min and max on same figure\n",
        "plt.figure()\n",
        "plt.plot(_day, _tmin, label='Min Temp (°C)')\n",
        "plt.plot(_day, _tmax, label='Max Temp (°C)')\n",
        "plt.xlabel('Day of Year')\n",
        "plt.ylabel('Temperature (°C)')\n",
        "plt.title('Min and Max Temperatures')\n",
        "plt.legend()\n",
        "plt.grid(True)\n",
        "plt.show()"
      ]
    },
    {
      "cell_type": "markdown",
      "metadata": {
        "id": "6M8VGGLMLiEe"
      },
      "source": [
        "#### Add axis labels and a legend to the plot above\n",
        "Use the following functions:\n",
        " - plt.xlabel\n",
        " - plt.ylabel\n",
        " - plt.title\n",
        " - plt.legend"
      ]
    },
    {
      "cell_type": "markdown",
      "metadata": {
        "id": "eg31LudjLiEe"
      },
      "source": [
        "#### Plot the precipitation as a function of max temperature\n",
        "You probably don't want a line connecting the dots.\n",
        "Are there any patterns you can spot?"
      ]
    },
    {
      "cell_type": "code",
      "execution_count": null,
      "metadata": {
        "id": "WU5MMv0FLiEe"
      },
      "outputs": [],
      "source": [
        "# Precipitation vs max temperature (scatter)\n",
        "plt.figure()\n",
        "plt.scatter(_tmax, _precip)\n",
        "plt.xlabel('Max Temp (°C)')\n",
        "plt.ylabel('Total Precip (mm)')\n",
        "plt.title('Precipitation vs Max Temperature')\n",
        "plt.grid(True)\n",
        "plt.show()"
      ]
    },
    {
      "cell_type": "markdown",
      "metadata": {
        "id": "jjrMOuUxLiEe"
      },
      "source": [
        "#### Plot the precipitation as a function of (t_max - t_min)"
      ]
    },
    {
      "cell_type": "code",
      "execution_count": null,
      "metadata": {
        "id": "PL_YYB43LiEe"
      },
      "outputs": [],
      "source": [
        "# Precipitation vs (t_max - t_min) (scatter)\n",
        "plt.figure()\n",
        "plt.scatter(_tdiff, _precip)\n",
        "plt.xlabel('Temp Range (°C)')\n",
        "plt.ylabel('Total Precip (mm)')\n",
        "plt.title('Precipitation vs Temperature Range')\n",
        "plt.grid(True)\n",
        "plt.show()"
      ]
    },
    {
      "cell_type": "markdown",
      "metadata": {
        "id": "7CgwG1SXLiEe"
      },
      "source": [
        "#### Read about plt.hist() function and plot a histogram of the maximum temperatures"
      ]
    },
    {
      "cell_type": "code",
      "execution_count": null,
      "metadata": {
        "id": "UTBsgtoCLiEf"
      },
      "outputs": [],
      "source": [
        "# Histogram help (left as reference)\n",
        "# plt.hist?\n",
        "# Now plot histogram of maximum temperatures\n",
        "plt.figure()\n",
        "plt.hist(_tmax, bins=20)\n",
        "plt.xlabel('Max Temp (°C)')\n",
        "plt.ylabel('Count')\n",
        "plt.title('Histogram of Max Temperatures')\n",
        "plt.show()"
      ]
    },
    {
      "cell_type": "markdown",
      "metadata": {
        "id": "XtyQ3tOiLiEf"
      },
      "source": [
        "#### Plot a histogram of the differences between the min and max temperature"
      ]
    },
    {
      "cell_type": "code",
      "execution_count": null,
      "metadata": {
        "id": "vAEccSKOLiEf"
      },
      "outputs": [],
      "source": [
        "# Histogram of differences (t_max - t_min)\n",
        "plt.figure()\n",
        "plt.hist(_tdiff, bins=20)\n",
        "plt.xlabel('Temp Range (°C)')\n",
        "plt.ylabel('Count')\n",
        "plt.title('Histogram of Daily Temperature Range')\n",
        "plt.show()"
      ]
    },
    {
      "cell_type": "markdown",
      "metadata": {
        "id": "L1WJtw57LiEf"
      },
      "source": [
        "#### For each day calculate the average of the 3 temperatures in the data (min max and avg)\n"
      ]
    },
    {
      "cell_type": "code",
      "execution_count": null,
      "metadata": {
        "id": "645gTTviLiEf"
      },
      "outputs": [],
      "source": [
        "# Average of min, max and mean for each day\n",
        "_avg3 = (_tmin + _tmax + _tmean) / 3.0\n",
        "_avg3[:10]"
      ]
    },
    {
      "cell_type": "markdown",
      "metadata": {
        "id": "2-N5ecieLiEf"
      },
      "source": [
        "#### Calculate the total amount of precipitation for the whole year\n",
        "Does the number seem reasonable? The annual average precipitation in Toronto is 831 mm according to https://en.wikipedia.org/wiki/Geography_of_Toronto"
      ]
    },
    {
      "cell_type": "code",
      "execution_count": null,
      "metadata": {
        "id": "Iz7NiMEdLiEf"
      },
      "outputs": [],
      "source": [
        "# Total precipitation for the year\n",
        "_total_precip = _precip.sum()\n",
        "_total_precip"
      ]
    },
    {
      "cell_type": "markdown",
      "metadata": {
        "id": "1t1WOgHiLiEf"
      },
      "source": [
        "#### Calculate the total precipitation on all odd numbered days (day 1, 3, 5 and so on)"
      ]
    },
    {
      "cell_type": "code",
      "execution_count": null,
      "metadata": {
        "id": "qn1mt6QNLiEf"
      },
      "outputs": [],
      "source": [
        "# Total precipitation on odd-numbered days (1,3,5,...)\n",
        "odd_mask = (_day % 2 == 1)\n",
        "_precip[odd_mask].sum()"
      ]
    }
  ],
  "metadata": {
    "kernelspec": {
      "display_name": "Python 3 (ipykernel)",
      "language": "python",
      "name": "python3"
    },
    "language_info": {
      "codemirror_mode": {
        "name": "ipython",
        "version": 3
      },
      "file_extension": ".py",
      "mimetype": "text/x-python",
      "name": "python",
      "nbconvert_exporter": "python",
      "pygments_lexer": "ipython3",
      "version": "3.11.4"
    },
    "colab": {
      "provenance": []
    }
  },
  "nbformat": 4,
  "nbformat_minor": 0
}